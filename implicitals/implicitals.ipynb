{
 "cells": [
  {
   "cell_type": "code",
   "execution_count": 1,
   "metadata": {},
   "outputs": [],
   "source": [
    "import numpy as np\n",
    "import scipy\n",
    "from scipy.sparse import diags\n",
    "from scipy.sparse.linalg import cg\n",
    "from sys import getsizeof\n",
    "from numpy.linalg import multi_dot as md\n",
    "from tqdm.notebook import tqdm"
   ]
  },
  {
   "cell_type": "code",
   "execution_count": 2,
   "metadata": {},
   "outputs": [],
   "source": [
    "%load_ext line_profiler"
   ]
  },
  {
   "cell_type": "code",
   "execution_count": 3,
   "metadata": {},
   "outputs": [],
   "source": [
    "class ImplicitNaiveALS(object):\n",
    "    \n",
    "    def __init__(self, factors=10, iterations=100, lambda_=4, alpha=40, seed=10, cg=False):\n",
    "        self.iterations = iterations\n",
    "        self.lambda_ = lambda_\n",
    "        self.alpha = alpha\n",
    "        self.factors = factors\n",
    "        self.Yi = None\n",
    "        self.Xu = None\n",
    "        self.seed = seed\n",
    "        self.cg = cg\n",
    "    \n",
    "    def fit(self, matrix):\n",
    "        np.random.seed(self.seed)\n",
    "        Pui = (matrix > 0).astype('int')\n",
    "        Cui = 1 + self.alpha * matrix\n",
    "        Xu = 0.02 * np.random.normal(0, size=(matrix.shape[0], self.factors))\n",
    "        Yi = 0.02 * np.random.normal(0, size=(matrix.shape[1], self.factors))\n",
    "        \n",
    "        for _iter in tqdm(range(self.iterations)):\n",
    "            \n",
    "            for user in range(matrix.shape[0]):\n",
    "                a = md([Yi.T, np.diag(Cui[user]), Yi]) + self.lambda_ * np.eye(self.factors)\n",
    "                b = md([Yi.T, np.diag(Cui[user]), Pui[user]])\n",
    "                Xu[user] = self._solver(a, b)\n",
    "            \n",
    "            for item in range(matrix.shape[1]):\n",
    "                a = md([Xu.T, np.diag(Cui[:, item]), Xu]) + self.lambda_ * np.eye(self.factors)\n",
    "                b = md([Xu.T, np.diag(Cui[:, item]), Pui[:, item]])\n",
    "                Yi[item] = self._solver(a, b)\n",
    "                \n",
    "        self.Xu = Xu\n",
    "        self.Yi = Yi        \n",
    "    \n",
    "    \n",
    "    def predict(self, user_id, top=10):\n",
    "        recommendations = np.dot(self.Xu[user_id], self.Yi.T).argsort(axis=1)[:, -top:][:, ::-1]\n",
    "        return recommendations\n",
    "    \n",
    "    def _solver(self, a, b):\n",
    "        if self.cg == True:\n",
    "            return scipy.sparse.linalg.cgs(a, b, maxiter=3)[0]\n",
    "        else:\n",
    "            return np.linalg.solve(a, b)"
   ]
  },
  {
   "cell_type": "code",
   "execution_count": 4,
   "metadata": {},
   "outputs": [],
   "source": [
    "a = ImplicitNaiveALS(factors=100, iterations=10, cg=True)"
   ]
  },
  {
   "cell_type": "code",
   "execution_count": 5,
   "metadata": {},
   "outputs": [],
   "source": [
    "size = 100\n",
    "temp = 10 * np.eye(size) + 0.0001 * np.random.normal(0, size=(size,size))"
   ]
  },
  {
   "cell_type": "code",
   "execution_count": 7,
   "metadata": {},
   "outputs": [
    {
     "data": {
      "application/vnd.jupyter.widget-view+json": {
       "model_id": "f09fc1f541144562b47db0b473c4fdfe",
       "version_major": 2,
       "version_minor": 0
      },
      "text/plain": [
       "HBox(children=(FloatProgress(value=0.0), HTML(value='')))"
      ]
     },
     "metadata": {},
     "output_type": "display_data"
    },
    {
     "name": "stdout",
     "output_type": "stream",
     "text": [
      "\n"
     ]
    }
   ],
   "source": [
    "a = ImplicitNaiveALS(factors=50, iterations=100, cg=False)\n",
    "a.fit(temp)"
   ]
  },
  {
   "cell_type": "code",
   "execution_count": 8,
   "metadata": {},
   "outputs": [
    {
     "data": {
      "text/plain": [
       "array([[ 1, 67, 10, 87, 20,  8, 22, 78, 42, 70],\n",
       "       [ 2, 53, 70, 44, 56, 12, 17, 30, 24, 38],\n",
       "       [ 3, 74, 20, 59, 29, 39, 75, 47, 72, 16]])"
      ]
     },
     "execution_count": 8,
     "metadata": {},
     "output_type": "execute_result"
    }
   ],
   "source": [
    "a.predict(user_id=[1,2,3])"
   ]
  },
  {
   "cell_type": "code",
   "execution_count": null,
   "metadata": {},
   "outputs": [],
   "source": []
  }
 ],
 "metadata": {
  "kernelspec": {
   "display_name": "Python 3",
   "language": "python",
   "name": "python3"
  },
  "language_info": {
   "codemirror_mode": {
    "name": "ipython",
    "version": 3
   },
   "file_extension": ".py",
   "mimetype": "text/x-python",
   "name": "python",
   "nbconvert_exporter": "python",
   "pygments_lexer": "ipython3",
   "version": "3.6.9"
  }
 },
 "nbformat": 4,
 "nbformat_minor": 4
}
