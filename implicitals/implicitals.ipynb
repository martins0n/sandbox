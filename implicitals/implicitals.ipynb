{
 "cells": [
  {
   "cell_type": "code",
   "execution_count": 129,
   "metadata": {},
   "outputs": [],
   "source": [
    "import numpy as np\n",
    "import scipy\n",
    "from scipy.sparse import diags\n",
    "from sys import getsizeof\n",
    "from numpy.linalg import multi_dot as md\n",
    "from tqdm.notebook import tqdm"
   ]
  },
  {
   "cell_type": "code",
   "execution_count": 130,
   "metadata": {},
   "outputs": [],
   "source": [
    "class ImplicitNaiveALS(object):\n",
    "    def __init__(self, factors=10, iterations=100, lambda_=4, alpha=40, seed=10):\n",
    "        self.iterations = iterations\n",
    "        self.lambda_ = lambda_\n",
    "        self.alpha = alpha\n",
    "        self.factors = factors\n",
    "        self.Yi = None\n",
    "        self.Xu = None\n",
    "        self.seed = seed\n",
    "    \n",
    "    def fit(self, matrix):\n",
    "        np.random.seed(self.seed)\n",
    "        Pui = (matrix > 0).astype('int')\n",
    "        Cui = 1 + self.alpha * matrix\n",
    "        Xu = 0.02 * np.random.normal(0, size=(matrix.shape[0], self.factors))\n",
    "        Yi = 0.02 * np.random.normal(0, size=(matrix.shape[1], self.factors))\n",
    "        \n",
    "        for _iter in tqdm(range(self.iterations)):\n",
    "            \n",
    "            for user in range(matrix.shape[0]):\n",
    "                a = md([Yi.T, np.diag(Cui[user]), Yi]) + self.lambda_ * np.eye(self.factors)\n",
    "                b = md([Yi.T, np.diag(Cui[user]), Pui[user]])\n",
    "                Xu[user] = np.linalg.solve(a, b)\n",
    "            \n",
    "            for item in range(matrix.shape[1]):\n",
    "                a = md([Xu.T, np.diag(Cui[:, item]), Xu]) + self.lambda_ * np.eye(self.factors)\n",
    "                b = md([Xu.T, np.diag(Cui[:, item]), Pui[:, item]])\n",
    "                Yi[item] = np.linalg.solve(a, b)\n",
    "                \n",
    "        self.Xu = Xu\n",
    "        self.Yi = Yi        \n",
    "    \n",
    "    \n",
    "    def predict(self, user_id, top=10):\n",
    "        recommendations = np.dot(self.Xu[user_id], self.Yi.T).argsort(axis=1)[:, -top:][:, ::-1]\n",
    "        return recommendations"
   ]
  },
  {
   "cell_type": "code",
   "execution_count": 131,
   "metadata": {},
   "outputs": [],
   "source": [
    "a = ImplicitNaiveALS(factors=20, iterations=100)"
   ]
  },
  {
   "cell_type": "code",
   "execution_count": 132,
   "metadata": {},
   "outputs": [],
   "source": [
    "temp = 10 * np.eye(100) + 0.0001 * np.random.normal(0, size=(100,100))"
   ]
  },
  {
   "cell_type": "code",
   "execution_count": 133,
   "metadata": {},
   "outputs": [
    {
     "data": {
      "application/vnd.jupyter.widget-view+json": {
       "model_id": "4e8d23f3882b49c1a0d0801912e3f5b0",
       "version_major": 2,
       "version_minor": 0
      },
      "text/plain": [
       "HBox(children=(FloatProgress(value=0.0), HTML(value='')))"
      ]
     },
     "metadata": {},
     "output_type": "display_data"
    },
    {
     "name": "stdout",
     "output_type": "stream",
     "text": [
      "\n"
     ]
    }
   ],
   "source": [
    "a.fit(temp)"
   ]
  },
  {
   "cell_type": "code",
   "execution_count": 134,
   "metadata": {},
   "outputs": [
    {
     "data": {
      "text/plain": [
       "array([[ 1, 26, 25, 14, 38, 54, 20, 13, 91, 70],\n",
       "       [ 2, 59, 61, 15, 60, 90, 51, 92, 87, 28],\n",
       "       [ 3, 41, 17, 68, 54, 70, 77, 26, 47, 55]])"
      ]
     },
     "execution_count": 134,
     "metadata": {},
     "output_type": "execute_result"
    }
   ],
   "source": [
    "a.predict(user_id=[1,2,3])"
   ]
  },
  {
   "cell_type": "code",
   "execution_count": null,
   "metadata": {},
   "outputs": [],
   "source": []
  }
 ],
 "metadata": {
  "kernelspec": {
   "display_name": "Python 3",
   "language": "python",
   "name": "python3"
  },
  "language_info": {
   "codemirror_mode": {
    "name": "ipython",
    "version": 3
   },
   "file_extension": ".py",
   "mimetype": "text/x-python",
   "name": "python",
   "nbconvert_exporter": "python",
   "pygments_lexer": "ipython3",
   "version": "3.6.9"
  }
 },
 "nbformat": 4,
 "nbformat_minor": 2
}
