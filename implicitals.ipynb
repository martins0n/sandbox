{
 "cells": [
  {
   "cell_type": "code",
   "execution_count": 29,
   "metadata": {},
   "outputs": [],
   "source": [
    "import numpy as np\n",
    "import scipy\n",
    "from scipy.sparse import diags\n",
    "from sys import getsizeof\n",
    "from numpy.linalg import multi_dot as md"
   ]
  },
  {
   "cell_type": "code",
   "execution_count": 30,
   "metadata": {},
   "outputs": [],
   "source": [
    "class ImplicitALS(object):\n",
    "    def __init__(self, factors=10, iterations=100, lambda_=4, alpha=40):\n",
    "        self.iterations = iterations\n",
    "        self.lambda_ = lambda_\n",
    "        self.alpha = alpha\n",
    "        self.factors = factors\n",
    "        self.Yi = None\n",
    "        self.Xu = None\n",
    "    \n",
    "    def fit(self, matrix):\n",
    "        Pui = (matrix > 0).astype('int')\n",
    "        Cui = 1 + self.alpha * matrix\n",
    "        Xu = np.random.normal(0, size=(matrix.shape[0], self.factors))\n",
    "        Yi = np.random.normal(0, size=(matrix.shape[1], self.factors))\n",
    "        for _iter in range(self.iterations):\n",
    "            for user in range(matrix.shape[0]):\n",
    "                a = md([Yi.T, np.diag(Cui[user]), Yi]) + self.lambda_ * np.eye(self.factors)\n",
    "                b = md([Yi.T, np.diag(Cui[user]), Pui[user]])\n",
    "                Xu[user] = np.linalg.solve(a, b)\n",
    "            \n",
    "            for item in range(matrix.shape[1]):\n",
    "                a = md([Xu.T, np.diag(Cui[:, item]), Xu]) + self.lambda_ * np.eye(self.factors)\n",
    "                b = md([Xu.T, np.diag(Cui[:, item]), Pui[:, item]])\n",
    "                Yi[item] = np.linalg.solve(a, b)\n",
    "        self.Xu = Xu\n",
    "        self.Yi = Yi\n",
    "        \n",
    "            \n",
    "        "
   ]
  },
  {
   "cell_type": "code",
   "execution_count": 31,
   "metadata": {},
   "outputs": [],
   "source": [
    "a = ImplicitALS()"
   ]
  },
  {
   "cell_type": "code",
   "execution_count": 36,
   "metadata": {},
   "outputs": [],
   "source": [
    "a.fit(np.eye(10))"
   ]
  },
  {
   "cell_type": "code",
   "execution_count": 38,
   "metadata": {},
   "outputs": [
    {
     "data": {
      "text/plain": [
       "0.9024390243902438"
      ]
     },
     "execution_count": 38,
     "metadata": {},
     "output_type": "execute_result"
    }
   ],
   "source": [
    "a.Xu[0] @ a.Yi[0]"
   ]
  },
  {
   "cell_type": "code",
   "execution_count": 42,
   "metadata": {},
   "outputs": [
    {
     "data": {
      "text/plain": [
       "1.457167719820518e-16"
      ]
     },
     "execution_count": 42,
     "metadata": {},
     "output_type": "execute_result"
    }
   ],
   "source": [
    "a.Xu[0] @ a.Yi[4]"
   ]
  },
  {
   "cell_type": "code",
   "execution_count": null,
   "metadata": {},
   "outputs": [],
   "source": []
  }
 ],
 "metadata": {
  "kernelspec": {
   "display_name": "Python 3",
   "language": "python",
   "name": "python3"
  },
  "language_info": {
   "codemirror_mode": {
    "name": "ipython",
    "version": 3
   },
   "file_extension": ".py",
   "mimetype": "text/x-python",
   "name": "python",
   "nbconvert_exporter": "python",
   "pygments_lexer": "ipython3",
   "version": "3.6.9"
  }
 },
 "nbformat": 4,
 "nbformat_minor": 2
}
