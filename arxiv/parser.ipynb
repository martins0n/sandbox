{
 "cells": [
  {
   "cell_type": "code",
   "execution_count": 1,
   "metadata": {},
   "outputs": [
    {
     "name": "stdout",
     "output_type": "stream",
     "text": [
      "Requirement already satisfied: arxiv in /home/marti/Projects/etna-research/.venv/lib/python3.8/site-packages (1.4.2)\n",
      "Requirement already satisfied: seaborn in /home/marti/Projects/etna-research/.venv/lib/python3.8/site-packages (0.11.2)\n",
      "Requirement already satisfied: nltk in /home/marti/Projects/etna-research/.venv/lib/python3.8/site-packages (3.6.7)\n",
      "Requirement already satisfied: feedparser in /home/marti/Projects/etna-research/.venv/lib/python3.8/site-packages (from arxiv) (6.0.8)\n",
      "Requirement already satisfied: pandas>=0.23 in /home/marti/Projects/etna-research/.venv/lib/python3.8/site-packages (from seaborn) (1.1.4)\n",
      "Requirement already satisfied: scipy>=1.0 in /home/marti/Projects/etna-research/.venv/lib/python3.8/site-packages (from seaborn) (1.5.4)\n",
      "Requirement already satisfied: numpy>=1.15 in /home/marti/Projects/etna-research/.venv/lib/python3.8/site-packages (from seaborn) (1.19.4)\n",
      "Requirement already satisfied: matplotlib>=2.2 in /home/marti/Projects/etna-research/.venv/lib/python3.8/site-packages (from seaborn) (3.3.3)\n",
      "Requirement already satisfied: click in /home/marti/Projects/etna-research/.venv/lib/python3.8/site-packages (from nltk) (7.1.2)\n",
      "Requirement already satisfied: tqdm in /home/marti/Projects/etna-research/.venv/lib/python3.8/site-packages (from nltk) (4.53.0)\n",
      "Requirement already satisfied: regex>=2021.8.3 in /home/marti/Projects/etna-research/.venv/lib/python3.8/site-packages (from nltk) (2021.11.10)\n",
      "Requirement already satisfied: joblib in /home/marti/Projects/etna-research/.venv/lib/python3.8/site-packages (from nltk) (0.17.0)\n",
      "Requirement already satisfied: sgmllib3k in /home/marti/Projects/etna-research/.venv/lib/python3.8/site-packages (from feedparser->arxiv) (1.0.0)\n",
      "Requirement already satisfied: python-dateutil>=2.7.3 in /home/marti/Projects/etna-research/.venv/lib/python3.8/site-packages (from pandas>=0.23->seaborn) (2.8.1)\n",
      "Requirement already satisfied: pytz>=2017.2 in /home/marti/Projects/etna-research/.venv/lib/python3.8/site-packages (from pandas>=0.23->seaborn) (2020.4)\n",
      "Requirement already satisfied: pyparsing!=2.0.4,!=2.1.2,!=2.1.6,>=2.0.3 in /home/marti/Projects/etna-research/.venv/lib/python3.8/site-packages (from matplotlib>=2.2->seaborn) (2.4.7)\n",
      "Requirement already satisfied: pillow>=6.2.0 in /home/marti/Projects/etna-research/.venv/lib/python3.8/site-packages (from matplotlib>=2.2->seaborn) (8.0.1)\n",
      "Requirement already satisfied: kiwisolver>=1.0.1 in /home/marti/Projects/etna-research/.venv/lib/python3.8/site-packages (from matplotlib>=2.2->seaborn) (1.3.1)\n",
      "Requirement already satisfied: cycler>=0.10 in /home/marti/Projects/etna-research/.venv/lib/python3.8/site-packages (from matplotlib>=2.2->seaborn) (0.10.0)\n",
      "Requirement already satisfied: six>=1.5 in /home/marti/Projects/etna-research/.venv/lib/python3.8/site-packages (from python-dateutil>=2.7.3->pandas>=0.23->seaborn) (1.15.0)\n",
      "\u001b[33mWARNING: You are using pip version 20.2.4; however, version 21.3.1 is available.\n",
      "You should consider upgrading via the '/home/marti/Projects/etna-research/.venv/bin/python -m pip install --upgrade pip' command.\u001b[0m\n"
     ]
    }
   ],
   "source": [
    "!python -m pip install arxiv seaborn nltk"
   ]
  },
  {
   "cell_type": "code",
   "execution_count": 2,
   "metadata": {},
   "outputs": [
    {
     "name": "stderr",
     "output_type": "stream",
     "text": [
      "[nltk_data] Downloading package punkt to /home/marti/nltk_data...\n",
      "[nltk_data]   Package punkt is already up-to-date!\n",
      "[nltk_data] Downloading package omw-1.4 to /home/marti/nltk_data...\n",
      "[nltk_data]   Package omw-1.4 is already up-to-date!\n"
     ]
    },
    {
     "data": {
      "text/plain": [
       "True"
      ]
     },
     "execution_count": 2,
     "metadata": {},
     "output_type": "execute_result"
    }
   ],
   "source": [
    "import nltk\n",
    "nltk.download('punkt')\n",
    "nltk.download('omw-1.4')"
   ]
  },
  {
   "cell_type": "code",
   "execution_count": 3,
   "metadata": {},
   "outputs": [],
   "source": [
    "import arxiv\n",
    "import seaborn as sns\n",
    "import pandas as pd\n",
    "pd.set_option('display.max_colwidth', 100)"
   ]
  },
  {
   "cell_type": "code",
   "execution_count": 4,
   "metadata": {},
   "outputs": [],
   "source": [
    "client = arxiv.Client(\n",
    "    page_size=500,\n",
    "    delay_seconds=3,\n",
    "    num_retries=3\n",
    ")"
   ]
  },
  {
   "cell_type": "code",
   "execution_count": 5,
   "metadata": {},
   "outputs": [],
   "source": [
    "results = {\n",
    "    \"forecast\": [],\n",
    "    #\"time series\": []\n",
    "}\n",
    "\n",
    "for tag in results:\n",
    "    for result in client.results(\n",
    "        arxiv.Search(\n",
    "            query=tag,\n",
    "            sort_by=arxiv.SortCriterion.SubmittedDate\n",
    "        )\n",
    "    ):\n",
    "        if result.published.year < 2021:\n",
    "            break\n",
    "        results[tag].append(result)"
   ]
  },
  {
   "cell_type": "code",
   "execution_count": 6,
   "metadata": {},
   "outputs": [
    {
     "name": "stdout",
     "output_type": "stream",
     "text": [
      "tag: forecast 1763\n"
     ]
    }
   ],
   "source": [
    "for tag in results:\n",
    "    print(f\"tag: {tag} {len(results[tag])}\")"
   ]
  },
  {
   "cell_type": "code",
   "execution_count": 7,
   "metadata": {},
   "outputs": [],
   "source": [
    "df = pd.DataFrame([i.__dict__ for tag in results for i in results[tag]])"
   ]
  },
  {
   "cell_type": "code",
   "execution_count": 8,
   "metadata": {},
   "outputs": [
    {
     "name": "stdout",
     "output_type": "stream",
     "text": [
      "<class 'pandas.core.frame.DataFrame'>\n",
      "RangeIndex: 1763 entries, 0 to 1762\n",
      "Data columns (total 14 columns):\n",
      " #   Column            Non-Null Count  Dtype              \n",
      "---  ------            --------------  -----              \n",
      " 0   entry_id          1763 non-null   object             \n",
      " 1   updated           1763 non-null   datetime64[ns, UTC]\n",
      " 2   published         1763 non-null   datetime64[ns, UTC]\n",
      " 3   title             1763 non-null   object             \n",
      " 4   authors           1763 non-null   object             \n",
      " 5   summary           1763 non-null   object             \n",
      " 6   comment           1021 non-null   object             \n",
      " 7   journal_ref       176 non-null    object             \n",
      " 8   doi               317 non-null    object             \n",
      " 9   primary_category  1763 non-null   object             \n",
      " 10  categories        1763 non-null   object             \n",
      " 11  links             1763 non-null   object             \n",
      " 12  pdf_url           1763 non-null   object             \n",
      " 13  _raw              1763 non-null   object             \n",
      "dtypes: datetime64[ns, UTC](2), object(12)\n",
      "memory usage: 193.0+ KB\n"
     ]
    }
   ],
   "source": [
    "df.info()"
   ]
  },
  {
   "cell_type": "code",
   "execution_count": 9,
   "metadata": {},
   "outputs": [
    {
     "name": "stderr",
     "output_type": "stream",
     "text": [
      "/home/marti/Projects/etna-research/.venv/lib/python3.8/site-packages/pandas/core/strings.py:2001: UserWarning: This pattern has match groups. To actually get the groups, use str.extract.\n",
      "  return func(self, *args, **kwargs)\n"
     ]
    }
   ],
   "source": [
    "df = df[df.primary_category.str.contains(\"(cs\\.|stat\\.)\", case=False)]\n",
    "df = df[~df.primary_category.str.contains(\"physics\", case=False)]\n",
    "df = df.drop_duplicates(subset=\"title\", keep=\"last\")"
   ]
  },
  {
   "cell_type": "code",
   "execution_count": 10,
   "metadata": {},
   "outputs": [
    {
     "name": "stdout",
     "output_type": "stream",
     "text": [
      "<class 'pandas.core.frame.DataFrame'>\n",
      "Int64Index: 1002 entries, 2 to 1761\n",
      "Data columns (total 14 columns):\n",
      " #   Column            Non-Null Count  Dtype              \n",
      "---  ------            --------------  -----              \n",
      " 0   entry_id          1002 non-null   object             \n",
      " 1   updated           1002 non-null   datetime64[ns, UTC]\n",
      " 2   published         1002 non-null   datetime64[ns, UTC]\n",
      " 3   title             1002 non-null   object             \n",
      " 4   authors           1002 non-null   object             \n",
      " 5   summary           1002 non-null   object             \n",
      " 6   comment           526 non-null    object             \n",
      " 7   journal_ref       79 non-null     object             \n",
      " 8   doi               105 non-null    object             \n",
      " 9   primary_category  1002 non-null   object             \n",
      " 10  categories        1002 non-null   object             \n",
      " 11  links             1002 non-null   object             \n",
      " 12  pdf_url           1002 non-null   object             \n",
      " 13  _raw              1002 non-null   object             \n",
      "dtypes: datetime64[ns, UTC](2), object(12)\n",
      "memory usage: 117.4+ KB\n"
     ]
    }
   ],
   "source": [
    "df.info()"
   ]
  },
  {
   "cell_type": "code",
   "execution_count": 11,
   "metadata": {},
   "outputs": [],
   "source": [
    "from nltk import word_tokenize\n",
    "from nltk import ngrams\n",
    "from nltk import stem\n",
    "from nltk.tokenize import RegexpTokenizer\n",
    "from nltk.corpus import stopwords\n",
    "\n",
    "tokenizer = RegexpTokenizer(r'\\w{3,}')\n",
    "stop_words = set(stopwords.words('english'))\n",
    "stemmer = stem.SnowballStemmer(language=\"english\")"
   ]
  },
  {
   "cell_type": "code",
   "execution_count": 12,
   "metadata": {},
   "outputs": [],
   "source": [
    "import requests\n",
    "\n",
    "def get_citation_index(x: str):\n",
    "    \"\"\"Get citation counter from crossref api.\"\"\"\n",
    "    if x is not None and len(x) > 4:\n",
    "        try:\n",
    "            data = requests.get(f\"https://api.crossref.org/works/{x}\").json()\n",
    "            return data[\"message\"][\"is-referenced-by-count\"]\n",
    "        except:\n",
    "            print(x)\n",
    "\n",
    "def published_flag(comment_message: str, doi: str):\n",
    "    \"\"\"Find out papers published or conference accepted.\"\"\"\n",
    "    key_words = {\n",
    "        \"workshop\", \"journal\", \"accepted\",\n",
    "        \"code\", \"conference\", \"publication\",\n",
    "        \"neurips\", \"submitted\", \"icml\",\n",
    "        \"ieee\"\n",
    "    }\n",
    "    if doi:\n",
    "        return True\n",
    "    if comment_message is None:\n",
    "        return False\n",
    "    if len(key_words.intersection(set(tokenizer.tokenize(comment_message.lower())))) > 0:\n",
    "        return True\n",
    "    else: return False"
   ]
  },
  {
   "cell_type": "code",
   "execution_count": 13,
   "metadata": {},
   "outputs": [],
   "source": [
    "from typing import List\n",
    "\n",
    "def pipeline_normalize(x: str) -> List[str]:\n",
    "    global stemmer\n",
    "    global tokenizer\n",
    "    global stop_words\n",
    "    if len(x) < 1:\n",
    "        return []\n",
    "    _list_of_words = list()\n",
    "    for i in tokenizer.tokenize(x):\n",
    "        word = stemmer.stem(i).lower()\n",
    "        if word in stop_words:\n",
    "            continue\n",
    "        else:\n",
    "            _list_of_words.append(word)\n",
    "    return _list_of_words"
   ]
  },
  {
   "cell_type": "code",
   "execution_count": 14,
   "metadata": {},
   "outputs": [],
   "source": [
    "df = (\n",
    "    df\n",
    "    .pipe(lambda x: x.assign(parsed_title = x.title.apply(pipeline_normalize)))\n",
    "    .pipe(lambda x: x.assign(parsed_summary = x.summary.apply(pipeline_normalize)))\n",
    "    .pipe(lambda x: x.assign(parsed_title_2gram = x.parsed_title.apply(lambda x: list(ngrams(x, 2)))))\n",
    "    .pipe(lambda x: x.assign(parsed_summary_2gram = x.parsed_summary.apply(lambda x: list(ngrams(x, 2)))))\n",
    ")"
   ]
  },
  {
   "cell_type": "code",
   "execution_count": 15,
   "metadata": {},
   "outputs": [
    {
     "name": "stdout",
     "output_type": "stream",
     "text": [
      "10.1145/3488560.3498511\n",
      "10.1145/3492323.3495588\n",
      "10.5445/KSP/1000138532\n",
      "10.1080/21645515.2021.2017216\n",
      "10.1285/i20705948v14n1p230\n",
      "10.1109/ICASSP39728.2021.9414118.\n",
      "10.5281/zenodo.4478251\n",
      "10.37421/jhmi.2020.11.342 10.37421/jhmi.2020.11.342\n"
     ]
    }
   ],
   "source": [
    "df[\"citation_index\"] = df.doi.apply(get_citation_index)"
   ]
  },
  {
   "cell_type": "code",
   "execution_count": 16,
   "metadata": {},
   "outputs": [],
   "source": [
    "df[\"published_flag\"] = df.apply(lambda x: published_flag(x.comment, x.doi), axis=1)"
   ]
  },
  {
   "cell_type": "code",
   "execution_count": 17,
   "metadata": {},
   "outputs": [
    {
     "data": {
      "text/plain": [
       "cs.LG      488\n",
       "stat.AP     96\n",
       "cs.CV       89\n",
       "stat.ME     78\n",
       "stat.ML     48\n",
       "cs.AI       36\n",
       "cs.SI       24\n",
       "cs.RO       23\n",
       "cs.CL       21\n",
       "cs.CY       18\n",
       "cs.NI       12\n",
       "cs.DL        9\n",
       "cs.DC        9\n",
       "cs.NE        8\n",
       "Name: primary_category, dtype: int64"
      ]
     },
     "execution_count": 17,
     "metadata": {},
     "output_type": "execute_result"
    }
   ],
   "source": [
    "df.primary_category.value_counts().head(14)"
   ]
  },
  {
   "cell_type": "code",
   "execution_count": 18,
   "metadata": {},
   "outputs": [
    {
     "data": {
      "text/plain": [
       "(time, seri)         796\n",
       "(neural, network)    408\n",
       "(state, art)         259\n",
       "(machin, learn)      251\n",
       "(deep, learn)        241\n",
       "(real, world)        189\n",
       "(seri, forecast)     169\n",
       "(short, term)        160\n",
       "(forecast, model)    158\n",
       "(learn, model)       141\n",
       "(spatio, tempor)     108\n",
       "(paper, propos)      107\n",
       "(spatial, tempor)     90\n",
       "(long, term)          89\n",
       "(real, time)          88\n",
       "(result, show)        86\n",
       "(data, driven)        85\n",
       "(long, short)         85\n",
       "(recurr, neural)      84\n",
       "(term, memori)        82\n",
       "Name: parsed_summary_2gram, dtype: int64"
      ]
     },
     "execution_count": 18,
     "metadata": {},
     "output_type": "execute_result"
    }
   ],
   "source": [
    "df.parsed_summary_2gram.explode().value_counts().head(20)"
   ]
  },
  {
   "cell_type": "code",
   "execution_count": 19,
   "metadata": {},
   "outputs": [
    {
     "data": {
      "text/plain": [
       "(time, seri)              175\n",
       "(neural, network)          84\n",
       "(seri, forecast)           77\n",
       "(deep, learn)              51\n",
       "(machin, learn)            50\n",
       "(spatio, tempor)           35\n",
       "(short, term)              34\n",
       "(forecast, use)            27\n",
       "(graph, neural)            25\n",
       "(traffic, forecast)        22\n",
       "(data, driven)             18\n",
       "(graph, convolut)          17\n",
       "(learn, model)             17\n",
       "(load, forecast)           15\n",
       "(trajectori, predict)      15\n",
       "(convolut, network)        15\n",
       "(recurr, neural)           15\n",
       "(network, traffic)         14\n",
       "(trajectori, forecast)     14\n",
       "(multivari, time)          13\n",
       "Name: parsed_title_2gram, dtype: int64"
      ]
     },
     "execution_count": 19,
     "metadata": {},
     "output_type": "execute_result"
    }
   ],
   "source": [
    "df.parsed_title_2gram.explode().value_counts().head(20)"
   ]
  },
  {
   "cell_type": "code",
   "execution_count": 20,
   "metadata": {},
   "outputs": [
    {
     "data": {
      "text/html": [
       "<div>\n",
       "<style scoped>\n",
       "    .dataframe tbody tr th:only-of-type {\n",
       "        vertical-align: middle;\n",
       "    }\n",
       "\n",
       "    .dataframe tbody tr th {\n",
       "        vertical-align: top;\n",
       "    }\n",
       "\n",
       "    .dataframe thead th {\n",
       "        text-align: right;\n",
       "    }\n",
       "</style>\n",
       "<table border=\"1\" class=\"dataframe\">\n",
       "  <thead>\n",
       "    <tr style=\"text-align: right;\">\n",
       "      <th></th>\n",
       "      <th>title</th>\n",
       "      <th>citation_index</th>\n",
       "    </tr>\n",
       "  </thead>\n",
       "  <tbody>\n",
       "    <tr>\n",
       "      <th>1149</th>\n",
       "      <td>A better measure of relative prediction accuracy for model selection and model estimation</td>\n",
       "      <td>178.0</td>\n",
       "    </tr>\n",
       "    <tr>\n",
       "      <th>1145</th>\n",
       "      <td>The Semantic Brand Score</td>\n",
       "      <td>33.0</td>\n",
       "    </tr>\n",
       "    <tr>\n",
       "      <th>1111</th>\n",
       "      <td>Forecasting managerial turnover through e-mail based social network analysis</td>\n",
       "      <td>32.0</td>\n",
       "    </tr>\n",
       "    <tr>\n",
       "      <th>1381</th>\n",
       "      <td>An Experimental Review on Deep Learning Architectures for Time Series Forecasting</td>\n",
       "      <td>21.0</td>\n",
       "    </tr>\n",
       "    <tr>\n",
       "      <th>552</th>\n",
       "      <td>Weak Signals in the Mobility Landscape: Car Sharing in Ten European Cities</td>\n",
       "      <td>11.0</td>\n",
       "    </tr>\n",
       "    <tr>\n",
       "      <th>1714</th>\n",
       "      <td>Learning to Anticipate Egocentric Actions by Imagination</td>\n",
       "      <td>8.0</td>\n",
       "    </tr>\n",
       "    <tr>\n",
       "      <th>1146</th>\n",
       "      <td>Forecasting election results by studying brand importance in online news</td>\n",
       "      <td>8.0</td>\n",
       "    </tr>\n",
       "    <tr>\n",
       "      <th>1455</th>\n",
       "      <td>The RECIPE Approach to Challenges in Deeply Heterogeneous High Performance Systems</td>\n",
       "      <td>8.0</td>\n",
       "    </tr>\n",
       "    <tr>\n",
       "      <th>1627</th>\n",
       "      <td>Gesture Recognition in Robotic Surgery: a Review</td>\n",
       "      <td>7.0</td>\n",
       "    </tr>\n",
       "    <tr>\n",
       "      <th>1098</th>\n",
       "      <td>Look inside. Predicting stock prices by analysing an enterprise intranet social network and usin...</td>\n",
       "      <td>5.0</td>\n",
       "    </tr>\n",
       "    <tr>\n",
       "      <th>1216</th>\n",
       "      <td>Time series forecasting of new cases and new deaths rate for COVID-19 using deep learning methods</td>\n",
       "      <td>5.0</td>\n",
       "    </tr>\n",
       "    <tr>\n",
       "      <th>1700</th>\n",
       "      <td>Impact of COVID-19 on IoT Adoption in Healthcare, Smart Homes, Smart Buildings, Smart Cities, Tr...</td>\n",
       "      <td>5.0</td>\n",
       "    </tr>\n",
       "    <tr>\n",
       "      <th>1402</th>\n",
       "      <td>Data-driven nonintrusive reduced order modeling for dynamical systems with moving boundaries usi...</td>\n",
       "      <td>4.0</td>\n",
       "    </tr>\n",
       "    <tr>\n",
       "      <th>1333</th>\n",
       "      <td>Skillful Precipitation Nowcasting using Deep Generative Models of Radar</td>\n",
       "      <td>4.0</td>\n",
       "    </tr>\n",
       "    <tr>\n",
       "      <th>1544</th>\n",
       "      <td>Using Data Assimilation to Train a Hybrid Forecast System that Combines Machine-Learning and Kno...</td>\n",
       "      <td>3.0</td>\n",
       "    </tr>\n",
       "    <tr>\n",
       "      <th>833</th>\n",
       "      <td>Model-free prediction of emergence of extreme events in a parametrically driven nonlinear dynami...</td>\n",
       "      <td>3.0</td>\n",
       "    </tr>\n",
       "    <tr>\n",
       "      <th>1108</th>\n",
       "      <td>The impact of social media presence and board member composition on new venture success: Evidenc...</td>\n",
       "      <td>3.0</td>\n",
       "    </tr>\n",
       "    <tr>\n",
       "      <th>1533</th>\n",
       "      <td>Knowledge discovery from emergency ambulance dispatch during COVID-19: A case study of Nagoya Ci...</td>\n",
       "      <td>3.0</td>\n",
       "    </tr>\n",
       "    <tr>\n",
       "      <th>1664</th>\n",
       "      <td>A systematic literature review on state-of-the-art deep learning methods for process prediction</td>\n",
       "      <td>3.0</td>\n",
       "    </tr>\n",
       "    <tr>\n",
       "      <th>1660</th>\n",
       "      <td>Short-term daily precipitation forecasting with seasonally-integrated autoencoder</td>\n",
       "      <td>2.0</td>\n",
       "    </tr>\n",
       "  </tbody>\n",
       "</table>\n",
       "</div>"
      ],
      "text/plain": [
       "                                                                                                    title  \\\n",
       "1149            A better measure of relative prediction accuracy for model selection and model estimation   \n",
       "1145                                                                             The Semantic Brand Score   \n",
       "1111                         Forecasting managerial turnover through e-mail based social network analysis   \n",
       "1381                    An Experimental Review on Deep Learning Architectures for Time Series Forecasting   \n",
       "552                            Weak Signals in the Mobility Landscape: Car Sharing in Ten European Cities   \n",
       "1714                                             Learning to Anticipate Egocentric Actions by Imagination   \n",
       "1146                             Forecasting election results by studying brand importance in online news   \n",
       "1455                   The RECIPE Approach to Challenges in Deeply Heterogeneous High Performance Systems   \n",
       "1627                                                     Gesture Recognition in Robotic Surgery: a Review   \n",
       "1098  Look inside. Predicting stock prices by analysing an enterprise intranet social network and usin...   \n",
       "1216    Time series forecasting of new cases and new deaths rate for COVID-19 using deep learning methods   \n",
       "1700  Impact of COVID-19 on IoT Adoption in Healthcare, Smart Homes, Smart Buildings, Smart Cities, Tr...   \n",
       "1402  Data-driven nonintrusive reduced order modeling for dynamical systems with moving boundaries usi...   \n",
       "1333                              Skillful Precipitation Nowcasting using Deep Generative Models of Radar   \n",
       "1544  Using Data Assimilation to Train a Hybrid Forecast System that Combines Machine-Learning and Kno...   \n",
       "833   Model-free prediction of emergence of extreme events in a parametrically driven nonlinear dynami...   \n",
       "1108  The impact of social media presence and board member composition on new venture success: Evidenc...   \n",
       "1533  Knowledge discovery from emergency ambulance dispatch during COVID-19: A case study of Nagoya Ci...   \n",
       "1664      A systematic literature review on state-of-the-art deep learning methods for process prediction   \n",
       "1660                    Short-term daily precipitation forecasting with seasonally-integrated autoencoder   \n",
       "\n",
       "      citation_index  \n",
       "1149           178.0  \n",
       "1145            33.0  \n",
       "1111            32.0  \n",
       "1381            21.0  \n",
       "552             11.0  \n",
       "1714             8.0  \n",
       "1146             8.0  \n",
       "1455             8.0  \n",
       "1627             7.0  \n",
       "1098             5.0  \n",
       "1216             5.0  \n",
       "1700             5.0  \n",
       "1402             4.0  \n",
       "1333             4.0  \n",
       "1544             3.0  \n",
       "833              3.0  \n",
       "1108             3.0  \n",
       "1533             3.0  \n",
       "1664             3.0  \n",
       "1660             2.0  "
      ]
     },
     "execution_count": 20,
     "metadata": {},
     "output_type": "execute_result"
    }
   ],
   "source": [
    "df[~df.doi.isnull()].sort_values(by=\"citation_index\", ascending=False)[[\"title\", \"citation_index\"]].head(20)"
   ]
  },
  {
   "cell_type": "code",
   "execution_count": 21,
   "metadata": {},
   "outputs": [
    {
     "data": {
      "text/plain": [
       "['A Comparative Analysis of Machine Learning and Grey Models',\n",
       " 'A Comparative Study of Using Spatial-Temporal Graph Convolutional Networks for Predicting Availability in Bike Sharing Schemes',\n",
       " 'A Daily Tourism Demand Prediction Framework Based on Multi-head Attention CNN: The Case of The Foreign Entrant in South Korea',\n",
       " 'A Robust and Efficient Multi-Scale Seasonal-Trend Decomposition',\n",
       " 'A Spatio-Temporal Model for Predicting Wind Speeds in Southern California',\n",
       " 'A Study of Joint Graph Inference and Forecasting',\n",
       " 'A Trainable Reconciliation Method for Hierarchical Time-Series',\n",
       " 'A study on Ensemble Learning for Time Series Forecasting and the need for Meta-Learning',\n",
       " 'A systematic review of Python packages for time series analysis',\n",
       " 'AGSTN: Learning Attention-adjusted Graph Spatio-Temporal Networks for Short-term Urban Sensor Value Forecasting',\n",
       " 'AdaRNN: Adaptive Learning and Forecasting of Time Series',\n",
       " 'Adversarial autoencoders and adversarial LSTM for improved forecasts of urban air pollution simulations',\n",
       " 'All-Clear Flare Prediction Using Interval-based Time Series Classifiers',\n",
       " 'An Experimental Review on Deep Learning Architectures for Time Series Forecasting',\n",
       " 'Attentive Neural Controlled Differential Equations for Time-series Classification and Forecasting',\n",
       " 'AutoAI-TS: AutoAI for Time Series Forecasting',\n",
       " 'Automated Evolutionary Approach for the Design of Composite Machine Learning Pipelines',\n",
       " 'CLeaR: An Adaptive Continual Learning Framework for Regression Tasks',\n",
       " 'CSDI: Conditional Score-based Diffusion Models for Probabilistic Time Series Imputation',\n",
       " \"Comparison Analysis of Facebook's Prophet, Amazon's DeepAR+ and CNN-QR Algorithms for Successful Real-World Sales Forecasting\",\n",
       " 'Comparison of Traditional and Hybrid Time Series Models for Forecasting COVID-19 Cases',\n",
       " 'Data-Driven Copy-Paste Imputation for Energy Time Series',\n",
       " 'Deep Explicit Duration Switching Models for Time Series',\n",
       " 'Deep Learning Approaches for Forecasting Strawberry Yields and Prices Using Satellite Images and Station-Based Soil Parameters',\n",
       " 'Deep Neural Networks for Approximating Stream Reasoning with C-SPARQL',\n",
       " 'Deep Particulate Matter Forecasting Model Using Correntropy-Induced Loss',\n",
       " 'Deep Personalized Glucose Level Forecasting Using Attention-based Recurrent Neural Networks',\n",
       " 'Deep Probabilistic Koopman: Long-term time-series forecasting under periodic uncertainties',\n",
       " 'Deep Video Prediction for Time Series Forecasting',\n",
       " 'Demand Forecasting in Smart Grid Using Long Short-Term Memory',\n",
       " 'Development of Deep Transformer-Based Models for Long-Term Prediction of Transient Production of Oil Wells',\n",
       " 'Discrete Graph Structure Learning for Forecasting Multiple Time Series',\n",
       " 'District Wise Price Forecasting of Wheat in Pakistan using Deep Learning',\n",
       " 'Dynamic Gaussian Mixture based Deep Generative Model For Robust Forecasting on Sparse Multivariate Time Series',\n",
       " 'Early Recognition of Ball Catching Success in Clinical Trials with RNN-Based Predictive Classification',\n",
       " 'Empirical Quantitative Analysis of COVID-19 Forecasting Models',\n",
       " 'Energy time series forecasting-Analytical and empirical assessment of conventional and machine learning models',\n",
       " 'Evaluation of Time Series Forecasting Models for Estimation of PM2.5 Levels in Air',\n",
       " 'Feature-weighted Stacking for Nonseasonal Time Series Forecasts: A Case Study of the COVID-19 Epidemic Curves',\n",
       " 'Forecasting COVID-19 Counts At A Single Hospital: A Hierarchical Bayesian Approach',\n",
       " 'Forecasting Crude Oil Price Using Event Extraction',\n",
       " 'Forecasting Market Prices using DL with Data Augmentation and Meta-learning: ARIMA still wins!',\n",
       " 'GACAN: Graph Attention-Convolution-Attention Networks for Traffic Forecasting Based on Multi-granularity Time Series',\n",
       " 'Gesture Recognition in Robotic Surgery: a Review',\n",
       " 'High-dimensional Multivariate Time Series Forecasting in IoT Applications using Embedding Non-stationary Fuzzy Time Series',\n",
       " 'Improving the Thermal Infrared Monitoring of Volcanoes: A Deep Learning Approach for Intermittent Image Series',\n",
       " 'Is the group structure important in grouped functional time series?',\n",
       " 'LSTMs and Deep Residual Networks for Carbohydrate and Bolus Recommendations in Type 1 Diabetes Management',\n",
       " 'Learning future terrorist targets through temporal meta-graphs',\n",
       " 'Low-Rank Temporal Attention-Augmented Bilinear Network for financial time-series forecasting',\n",
       " 'MixSeq: Connecting Macroscopic Time Series Forecasting with Microscopic Time Series Data',\n",
       " 'Model-free prediction of emergence of extreme events in a parametrically driven nonlinear dynamical system by Deep Learning',\n",
       " 'Modeling National Trends on Health in the Philippines Using ARIMA',\n",
       " 'Monte Carlo EM for Deep Time Series Anomaly Detection',\n",
       " 'Multi-Task Time Series Forecasting With Shared Attention',\n",
       " 'Multi-source Transfer Learning with Ensemble for Financial Time Series Forecasting',\n",
       " 'Neural Flows: Efficient Alternative to Neural ODEs',\n",
       " 'Observation Error Covariance Specification in Dynamical Systems for Data assimilation using Recurrent Neural Networks',\n",
       " 'Online Advertising Revenue Forecasting: An Interpretable Deep Learning Approach',\n",
       " 'PIETS: Parallelised Irregularity Encoders for Forecasting with Heterogeneous Time-Series',\n",
       " 'POLA: Online Time Series Prediction by Adaptive Learning Rates',\n",
       " 'PSA-GAN: Progressive Self Attention GANs for Synthetic Time Series',\n",
       " 'Parameter Efficient Deep Probabilistic Forecasting',\n",
       " 'Periodic Variable Stars Modulated by Time-Varying Parameters',\n",
       " 'Predicting Covid-19 EMS Incidents from Daily Hospitalization Trends',\n",
       " 'Predicting Intraoperative Hypoxemia with Joint Sequence Autoencoder Networks',\n",
       " 'Predicting the Number of Reported Bugs in a Software Repository',\n",
       " 'Predictive Auto-scaling with OpenStack Monasca',\n",
       " 'Probabilistic Forecast Combination for Anomaly Detection in Building Heat Load Time Series',\n",
       " 'Probabilistic Gradient Boosting Machines for Large-Scale Probabilistic Regression',\n",
       " 'Probabilistic Hierarchical Forecasting with Deep Poisson Mixtures',\n",
       " 'Probabilistic Time Series Forecasting with Implicit Quantile Networks',\n",
       " 'Process Model Forecasting Using Time Series Analysis of Event Sequence Data',\n",
       " \"Quantifying the economic response to COVID-19 mitigations and death rates via forecasting Purchasing Managers' Indices using Generalised Network Autoregressive models with exogenous variables\",\n",
       " 'RECOWNs: Probabilistic Circuits for Trustworthy Time Series Forecasting',\n",
       " 'RNN with Particle Flow for Probabilistic Spatio-temporal Forecasting',\n",
       " 'Radflow: A Recurrent, Aggregated, and Decomposable Model for Networks of Time Series',\n",
       " 'Randomized Neural Networks for Forecasting Time Series with Multiple Seasonality',\n",
       " 'Reliable Fleet Analytics for Edge IoT Solutions',\n",
       " 'SALAD: Self-Adaptive Lightweight Anomaly Detection for Real-time Recurrent Time Series',\n",
       " 'Short-term daily precipitation forecasting with seasonally-integrated autoencoder',\n",
       " 'Smart Data Representations: Impact on the Accuracy of Deep Neural Networks',\n",
       " 'Spatio-temporal graph neural networks for multi-site PV power forecasting',\n",
       " 'Spectral Temporal Graph Neural Network for Multivariate Time-series Forecasting',\n",
       " 'Spliced Binned-Pareto Distribution for Robust Modeling of Heavy-tailed Time Series',\n",
       " 'Switching Recurrent Kalman Networks',\n",
       " 'Synergetic Learning of Heterogeneous Temporal Sequences for Multi-Horizon Probabilistic Forecasting',\n",
       " 'Temporal Latent Auto-Encoder: A Method for Probabilistic Multivariate Time Series Forecasting',\n",
       " 'The R package sentometrics to compute, aggregate and predict with textual sentiment',\n",
       " 'Time series forecasting of new cases and new deaths rate for COVID-19 using deep learning methods',\n",
       " 'Times Series Forecasting for Urban Building Energy Consumption Based on Graph Convolutional Network',\n",
       " 'Towards Synthetic Multivariate Time Series Generation for Flare Forecasting',\n",
       " 'Towards a Rigorous Evaluation of Explainability for Multivariate Time Series',\n",
       " 'Traffic signal prediction on transportation networks using spatio-temporal correlations on graphs',\n",
       " 'Translating Human Mobility Forecasting through Natural Language Generation',\n",
       " 'Two-Stage Framework for Seasonal Time Series Forecasting',\n",
       " 'Well Googled is Half Done: Multimodal Forecasting of New Fashion Product Sales with Image-based Google Trends',\n",
       " 'When in Doubt: Neural Non-Parametric Uncertainty Quantification for Epidemic Forecasting',\n",
       " 'Z-GCNETs: Time Zigzags at Graph Convolutional Networks for Time Series Forecasting']"
      ]
     },
     "execution_count": 21,
     "metadata": {},
     "output_type": "execute_result"
    }
   ],
   "source": [
    "(\n",
    "    df[df.published_flag]\n",
    "    .pipe(lambda x: x[lambda y: y.parsed_summary_2gram.apply(lambda z: (\"time\", \"seri\") in z)])\n",
    "    .title.sort_values().to_list()\n",
    ")"
   ]
  },
  {
   "cell_type": "code",
   "execution_count": 22,
   "metadata": {},
   "outputs": [
    {
     "data": {
      "text/plain": [
       "['Artificial Intelligence and Statistical Techniques in Short-Term Load Forecasting: A Review',\n",
       " 'GOPHER: Categorical probabilistic forecasting with graph structure via local continuous-time dynamics',\n",
       " 'Graph Neural Controlled Differential Equations for Traffic Forecasting',\n",
       " 'Probabilistic Deep Learning to Quantify Uncertainty in Air Quality Forecasting',\n",
       " 'A Daily Tourism Demand Prediction Framework Based on Multi-head Attention CNN: The Case of The Foreign Entrant in South Korea',\n",
       " 'Machine Learning-Based Soft Sensors for Vacuum Distillation Unit',\n",
       " 'Smart Data Representations: Impact on the Accuracy of Deep Neural Networks',\n",
       " 'A Comparative Study on Basic Elements of Deep Learning Models for Spatial-Temporal Traffic Forecasting',\n",
       " 'Forecasting Crude Oil Price Using Event Extraction',\n",
       " 'Observation Error Covariance Specification in Dynamical Systems for Data assimilation using Recurrent Neural Networks',\n",
       " 'Predictive Auto-scaling with OpenStack Monasca',\n",
       " 'Spatiotemporal Weather Data Predictions with Shortcut Recurrent-Convolutional Networks: A Solution for the Weather4cast challenge',\n",
       " 'Probabilistic Hierarchical Forecasting with Deep Poisson Mixtures',\n",
       " 'Neural Flows: Efficient Alternative to Neural ODEs',\n",
       " 'Development of Deep Transformer-Based Models for Long-Term Prediction of Transient Production of Oil Wells',\n",
       " 'Data-driven approaches for predicting spread of infectious diseases through DINNs: Disease Informed Neural Networks',\n",
       " 'PIETS: Parallelised Irregularity Encoders for Forecasting with Heterogeneous Time-Series',\n",
       " 'Digital Twins based Day-ahead Integrated Energy System Scheduling under Load and Renewable Energy Uncertainties',\n",
       " 'Graph-Based Spatial-Temporal Convolutional Network for Vehicle Trajectory Prediction in Autonomous Driving',\n",
       " 'Short-Term Load Forecasting Using Time Pooling Deep Recurrent Neural Network',\n",
       " 'Space Meets Time: Local Spacetime Neural Network For Traffic Flow Forecasting',\n",
       " 'A Study of Joint Graph Inference and Forecasting',\n",
       " 'SeDyT: A General Framework for Multi-Step Event Forecasting via Sequence Modeling on Dynamic Entity Embeddings',\n",
       " 'Attentive Neural Controlled Differential Equations for Time-series Classification and Forecasting',\n",
       " 'Adaptive Explainable Continual Learning Framework for Regression Problems with Focus on Power Forecasts',\n",
       " 'Feature-weighted Stacking for Nonseasonal Time Series Forecasts: A Case Study of the COVID-19 Epidemic Curves',\n",
       " 'Combining machine learning and data assimilation to forecast dynamical systems from noisy partial observations',\n",
       " 'Spatio-temporal graph neural networks for multi-site PV power forecasting',\n",
       " 'Demand Forecasting in Smart Grid Using Long Short-Term Memory',\n",
       " 'Significant Wave Height Prediction based on Wavelet Graph Neural Network',\n",
       " 'Model-free prediction of emergence of extreme events in a parametrically driven nonlinear dynamical system by Deep Learning',\n",
       " 'Probabilistic Time Series Forecasting with Implicit Quantile Networks',\n",
       " 'Comparing seven methods for state-of-health time series prediction for the lithium-ion battery packs of forklifts',\n",
       " 'Early Recognition of Ball Catching Success in Clinical Trials with RNN-Based Predictive Classification',\n",
       " 'Online Multi-Agent Forecasting with Interpretable Collaborative Graph Neural Network',\n",
       " 'Continuous-Depth Neural Models for Dynamic Graph Prediction',\n",
       " 'Self-Attentive Ensemble Transformer: Representing Ensemble Interactions in Neural Networks for Earth System Models',\n",
       " 'Decadal Forecasts with ResDMD: a Residual DMD Neural Network',\n",
       " 'Multi-level Motion Attention for Human Motion Prediction',\n",
       " 'Deep Neural Networks for Approximating Stream Reasoning with C-SPARQL',\n",
       " 'Cross-Node Federated Graph Neural Network for Spatio-Temporal Data Modeling',\n",
       " 'Optimized ensemble deep learning framework for scalable forecasting of dynamics containing extreme events',\n",
       " 'RECOWNs: Probabilistic Circuits for Trustworthy Time Series Forecasting',\n",
       " 'Graph Theory for Metro Traffic Modelling',\n",
       " 'Tensor-Train Recurrent Neural Networks for Interpretable Multi-Way Financial Forecasting',\n",
       " 'Comparison of Traditional and Hybrid Time Series Models for Forecasting COVID-19 Cases',\n",
       " 'Dynamic Graph Convolutional Recurrent Network for Traffic Prediction: Benchmark and Solution',\n",
       " 'Traffic signal prediction on transportation networks using spatio-temporal correlations on graphs',\n",
       " 'Unified Spatio-Temporal Modeling for Traffic Forecasting using Graph Neural Network',\n",
       " 'Predicting the Number of Reported Bugs in a Software Repository',\n",
       " 'A Comparative Study of Using Spatial-Temporal Graph Convolutional Networks for Predicting Availability in Bike Sharing Schemes',\n",
       " 'SALAD: Self-Adaptive Lightweight Anomaly Detection for Real-time Recurrent Time Series',\n",
       " 'Controlled abstention neural networks for identifying skillful predictions for regression problems',\n",
       " 'EarthNet2021: A large-scale dataset and challenge for Earth surface forecasting as a guided video prediction task',\n",
       " 'PyTorch Geometric Temporal: Spatiotemporal Signal Processing with Neural Machine Learning Models',\n",
       " 'Traffic Forecasting using Vehicle-to-Vehicle Communication',\n",
       " 'Prediction of Solar Radiation Using Artificial Neural Network',\n",
       " 'SST-GNN: Simplified Spatio-temporal Traffic forecasting model using Graph Neural Network',\n",
       " 'Combining distribution-based neural networks to predict weather forecast probabilities',\n",
       " 'An Experimental Review on Deep Learning Architectures for Time Series Forecasting',\n",
       " 'Spectral Temporal Graph Neural Network for Multivariate Time-series Forecasting',\n",
       " 'Learning to Predict Vehicle Trajectories with Model-based Planning',\n",
       " 'A Deep-Learning Framework to Predict the Dynamics of a Human-Driven Vehicle Based on the Road Geometry',\n",
       " 'District Wise Price Forecasting of Wheat in Pakistan using Deep Learning',\n",
       " 'Dynamic Gaussian Mixture based Deep Generative Model For Robust Forecasting on Sparse Multivariate Time Series',\n",
       " 'Two-Stage Framework for Seasonal Time Series Forecasting',\n",
       " 'Deep Learning Approaches for Forecasting Strawberry Yields and Prices Using Satellite Images and Station-Based Soil Parameters',\n",
       " 'POLA: Online Time Series Prediction by Adaptive Learning Rates',\n",
       " 'Knowledge discovery from emergency ambulance dispatch during COVID-19: A case study of Nagoya City, Japan',\n",
       " 'Radflow: A Recurrent, Aggregated, and Decomposable Model for Networks of Time Series',\n",
       " 'STUaNet: Understanding uncertainty in spatiotemporal collective human mobility',\n",
       " 'Synergetic Learning of Heterogeneous Temporal Sequences for Multi-Horizon Probabilistic Forecasting',\n",
       " 'AGSTN: Learning Attention-adjusted Graph Spatio-Temporal Networks for Short-term Urban Sensor Value Forecasting',\n",
       " 'Multi-Task Time Series Forecasting With Shared Attention',\n",
       " 'Deep Epidemiological Modeling by Black-box Knowledge Distillation: An Accurate Deep Learning Model for COVID-19',\n",
       " 'Probabilistic Solar Power Forecasting: Long Short-Term Memory Network vs Simpler Approaches',\n",
       " 'Discrete Graph Structure Learning for Forecasting Multiple Time Series',\n",
       " 'A deep learning modeling framework to capture mixing patterns in reactive-transport systems',\n",
       " 'A Trainable Reconciliation Method for Hierarchical Time-Series',\n",
       " 'CLeaR: An Adaptive Continual Learning Framework for Regression Tasks']"
      ]
     },
     "execution_count": 22,
     "metadata": {},
     "output_type": "execute_result"
    }
   ],
   "source": [
    "(\n",
    "    df[df.published_flag]\n",
    "    .pipe(lambda x: x[lambda y: y.parsed_summary_2gram.apply(lambda z: (\"neural\", \"network\") in z)])\n",
    "    .title.to_list()\n",
    ")"
   ]
  }
 ],
 "metadata": {
  "kernelspec": {
   "display_name": "Python 3.8.5 64-bit ('.venv': venv)",
   "language": "python",
   "name": "python38564bitvenvvenv1a994104d29c4a4d9b82fb4a40684ec8"
  },
  "language_info": {
   "codemirror_mode": {
    "name": "ipython",
    "version": 3
   },
   "file_extension": ".py",
   "mimetype": "text/x-python",
   "name": "python",
   "nbconvert_exporter": "python",
   "pygments_lexer": "ipython3",
   "version": "3.8.5"
  }
 },
 "nbformat": 4,
 "nbformat_minor": 4
}
