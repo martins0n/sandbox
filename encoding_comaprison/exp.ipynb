{
 "nbformat": 4,
 "nbformat_minor": 2,
 "metadata": {
  "language_info": {
   "name": "python",
   "codemirror_mode": {
    "name": "ipython",
    "version": 3
   },
   "version": "3.6.9-final"
  },
  "orig_nbformat": 2,
  "file_extension": ".py",
  "mimetype": "text/x-python",
  "name": "python",
  "npconvert_exporter": "python",
  "pygments_lexer": "ipython3",
  "version": 3,
  "kernelspec": {
   "name": "python36964bit1553af14cc7946bb9348cf28c66b44a4",
   "display_name": "Python 3.6.9 64-bit"
  }
 },
 "cells": [
  {
   "cell_type": "code",
   "execution_count": 1,
   "metadata": {},
   "outputs": [],
   "source": [
    "import numpy as np\n",
    "import pandas as pd\n",
    "from datetime import datetime, timedelta\n",
    "from sklearn.base import BaseEstimator, TransformerMixin\n",
    "from sklearn.pipeline import Pipeline, FeatureUnion, make_pipeline\n",
    "from sklearn.linear_model import LinearRegression, LogisticRegression\n",
    "from sklearn.ensemble import AdaBoostClassifier"
   ]
  },
  {
   "cell_type": "code",
   "execution_count": 2,
   "metadata": {},
   "outputs": [],
   "source": [
    "pd.set_option('display.max_rows', 500)\n",
    "pd.set_option('display.max_columns', 500)\n",
    "pd.set_option('display.width', 1000)"
   ]
  },
  {
   "cell_type": "code",
   "execution_count": 3,
   "metadata": {},
   "outputs": [],
   "source": [
    "from importlib import reload"
   ]
  },
  {
   "cell_type": "code",
   "execution_count": 4,
   "metadata": {},
   "outputs": [],
   "source": [
    "import utils\n",
    "reload(utils)\n",
    "from utils import investigation"
   ]
  },
  {
   "cell_type": "code",
   "execution_count": 5,
   "metadata": {},
   "outputs": [],
   "source": [
    "df = pd.read_csv(\"./datasets/train.csv\")"
   ]
  },
  {
   "cell_type": "code",
   "execution_count": 6,
   "metadata": {},
   "outputs": [
    {
     "data": {
      "text/html": "<div>\n<style scoped>\n    .dataframe tbody tr th:only-of-type {\n        vertical-align: middle;\n    }\n\n    .dataframe tbody tr th {\n        vertical-align: top;\n    }\n\n    .dataframe thead th {\n        text-align: right;\n    }\n</style>\n<table border=\"1\" class=\"dataframe\">\n  <thead>\n    <tr style=\"text-align: right;\">\n      <th></th>\n      <th>id</th>\n      <th>target</th>\n      <th>ps_ind_01</th>\n      <th>ps_ind_02_cat</th>\n      <th>ps_ind_03</th>\n      <th>ps_ind_04_cat</th>\n      <th>ps_ind_05_cat</th>\n      <th>ps_ind_06_bin</th>\n      <th>ps_ind_07_bin</th>\n      <th>ps_ind_08_bin</th>\n      <th>ps_ind_09_bin</th>\n      <th>ps_ind_10_bin</th>\n      <th>ps_ind_11_bin</th>\n      <th>ps_ind_12_bin</th>\n      <th>ps_ind_13_bin</th>\n      <th>ps_ind_14</th>\n      <th>ps_ind_15</th>\n      <th>ps_ind_16_bin</th>\n      <th>ps_ind_17_bin</th>\n      <th>ps_ind_18_bin</th>\n      <th>ps_reg_01</th>\n      <th>ps_reg_02</th>\n      <th>ps_reg_03</th>\n      <th>ps_car_01_cat</th>\n      <th>ps_car_02_cat</th>\n      <th>ps_car_03_cat</th>\n      <th>ps_car_04_cat</th>\n      <th>ps_car_05_cat</th>\n      <th>ps_car_06_cat</th>\n      <th>ps_car_07_cat</th>\n      <th>ps_car_08_cat</th>\n      <th>ps_car_09_cat</th>\n      <th>ps_car_10_cat</th>\n      <th>ps_car_11_cat</th>\n      <th>ps_car_11</th>\n      <th>ps_car_12</th>\n      <th>ps_car_13</th>\n      <th>ps_car_14</th>\n      <th>ps_car_15</th>\n      <th>ps_calc_01</th>\n      <th>ps_calc_02</th>\n      <th>ps_calc_03</th>\n      <th>ps_calc_04</th>\n      <th>ps_calc_05</th>\n      <th>ps_calc_06</th>\n      <th>ps_calc_07</th>\n      <th>ps_calc_08</th>\n      <th>ps_calc_09</th>\n      <th>ps_calc_10</th>\n      <th>ps_calc_11</th>\n      <th>ps_calc_12</th>\n      <th>ps_calc_13</th>\n      <th>ps_calc_14</th>\n      <th>ps_calc_15_bin</th>\n      <th>ps_calc_16_bin</th>\n      <th>ps_calc_17_bin</th>\n      <th>ps_calc_18_bin</th>\n      <th>ps_calc_19_bin</th>\n      <th>ps_calc_20_bin</th>\n    </tr>\n  </thead>\n  <tbody>\n    <tr>\n      <th>0</th>\n      <td>7</td>\n      <td>0</td>\n      <td>2</td>\n      <td>2</td>\n      <td>5</td>\n      <td>1</td>\n      <td>0</td>\n      <td>0</td>\n      <td>1</td>\n      <td>0</td>\n      <td>0</td>\n      <td>0</td>\n      <td>0</td>\n      <td>0</td>\n      <td>0</td>\n      <td>0</td>\n      <td>11</td>\n      <td>0</td>\n      <td>1</td>\n      <td>0</td>\n      <td>0.7</td>\n      <td>0.2</td>\n      <td>0.718070</td>\n      <td>10</td>\n      <td>1</td>\n      <td>-1</td>\n      <td>0</td>\n      <td>1</td>\n      <td>4</td>\n      <td>1</td>\n      <td>0</td>\n      <td>0</td>\n      <td>1</td>\n      <td>12</td>\n      <td>2</td>\n      <td>0.400000</td>\n      <td>0.883679</td>\n      <td>0.370810</td>\n      <td>3.605551</td>\n      <td>0.6</td>\n      <td>0.5</td>\n      <td>0.2</td>\n      <td>3</td>\n      <td>1</td>\n      <td>10</td>\n      <td>1</td>\n      <td>10</td>\n      <td>1</td>\n      <td>5</td>\n      <td>9</td>\n      <td>1</td>\n      <td>5</td>\n      <td>8</td>\n      <td>0</td>\n      <td>1</td>\n      <td>1</td>\n      <td>0</td>\n      <td>0</td>\n      <td>1</td>\n    </tr>\n    <tr>\n      <th>1</th>\n      <td>9</td>\n      <td>0</td>\n      <td>1</td>\n      <td>1</td>\n      <td>7</td>\n      <td>0</td>\n      <td>0</td>\n      <td>0</td>\n      <td>0</td>\n      <td>1</td>\n      <td>0</td>\n      <td>0</td>\n      <td>0</td>\n      <td>0</td>\n      <td>0</td>\n      <td>0</td>\n      <td>3</td>\n      <td>0</td>\n      <td>0</td>\n      <td>1</td>\n      <td>0.8</td>\n      <td>0.4</td>\n      <td>0.766078</td>\n      <td>11</td>\n      <td>1</td>\n      <td>-1</td>\n      <td>0</td>\n      <td>-1</td>\n      <td>11</td>\n      <td>1</td>\n      <td>1</td>\n      <td>2</td>\n      <td>1</td>\n      <td>19</td>\n      <td>3</td>\n      <td>0.316228</td>\n      <td>0.618817</td>\n      <td>0.388716</td>\n      <td>2.449490</td>\n      <td>0.3</td>\n      <td>0.1</td>\n      <td>0.3</td>\n      <td>2</td>\n      <td>1</td>\n      <td>9</td>\n      <td>5</td>\n      <td>8</td>\n      <td>1</td>\n      <td>7</td>\n      <td>3</td>\n      <td>1</td>\n      <td>1</td>\n      <td>9</td>\n      <td>0</td>\n      <td>1</td>\n      <td>1</td>\n      <td>0</td>\n      <td>1</td>\n      <td>0</td>\n    </tr>\n    <tr>\n      <th>2</th>\n      <td>13</td>\n      <td>0</td>\n      <td>5</td>\n      <td>4</td>\n      <td>9</td>\n      <td>1</td>\n      <td>0</td>\n      <td>0</td>\n      <td>0</td>\n      <td>1</td>\n      <td>0</td>\n      <td>0</td>\n      <td>0</td>\n      <td>0</td>\n      <td>0</td>\n      <td>0</td>\n      <td>12</td>\n      <td>1</td>\n      <td>0</td>\n      <td>0</td>\n      <td>0.0</td>\n      <td>0.0</td>\n      <td>-1.000000</td>\n      <td>7</td>\n      <td>1</td>\n      <td>-1</td>\n      <td>0</td>\n      <td>-1</td>\n      <td>14</td>\n      <td>1</td>\n      <td>1</td>\n      <td>2</td>\n      <td>1</td>\n      <td>60</td>\n      <td>1</td>\n      <td>0.316228</td>\n      <td>0.641586</td>\n      <td>0.347275</td>\n      <td>3.316625</td>\n      <td>0.5</td>\n      <td>0.7</td>\n      <td>0.1</td>\n      <td>2</td>\n      <td>2</td>\n      <td>9</td>\n      <td>1</td>\n      <td>8</td>\n      <td>2</td>\n      <td>7</td>\n      <td>4</td>\n      <td>2</td>\n      <td>7</td>\n      <td>7</td>\n      <td>0</td>\n      <td>1</td>\n      <td>1</td>\n      <td>0</td>\n      <td>1</td>\n      <td>0</td>\n    </tr>\n    <tr>\n      <th>3</th>\n      <td>16</td>\n      <td>0</td>\n      <td>0</td>\n      <td>1</td>\n      <td>2</td>\n      <td>0</td>\n      <td>0</td>\n      <td>1</td>\n      <td>0</td>\n      <td>0</td>\n      <td>0</td>\n      <td>0</td>\n      <td>0</td>\n      <td>0</td>\n      <td>0</td>\n      <td>0</td>\n      <td>8</td>\n      <td>1</td>\n      <td>0</td>\n      <td>0</td>\n      <td>0.9</td>\n      <td>0.2</td>\n      <td>0.580948</td>\n      <td>7</td>\n      <td>1</td>\n      <td>0</td>\n      <td>0</td>\n      <td>1</td>\n      <td>11</td>\n      <td>1</td>\n      <td>1</td>\n      <td>3</td>\n      <td>1</td>\n      <td>104</td>\n      <td>1</td>\n      <td>0.374166</td>\n      <td>0.542949</td>\n      <td>0.294958</td>\n      <td>2.000000</td>\n      <td>0.6</td>\n      <td>0.9</td>\n      <td>0.1</td>\n      <td>2</td>\n      <td>4</td>\n      <td>7</td>\n      <td>1</td>\n      <td>8</td>\n      <td>4</td>\n      <td>2</td>\n      <td>2</td>\n      <td>2</td>\n      <td>4</td>\n      <td>9</td>\n      <td>0</td>\n      <td>0</td>\n      <td>0</td>\n      <td>0</td>\n      <td>0</td>\n      <td>0</td>\n    </tr>\n    <tr>\n      <th>4</th>\n      <td>17</td>\n      <td>0</td>\n      <td>0</td>\n      <td>2</td>\n      <td>0</td>\n      <td>1</td>\n      <td>0</td>\n      <td>1</td>\n      <td>0</td>\n      <td>0</td>\n      <td>0</td>\n      <td>0</td>\n      <td>0</td>\n      <td>0</td>\n      <td>0</td>\n      <td>0</td>\n      <td>9</td>\n      <td>1</td>\n      <td>0</td>\n      <td>0</td>\n      <td>0.7</td>\n      <td>0.6</td>\n      <td>0.840759</td>\n      <td>11</td>\n      <td>1</td>\n      <td>-1</td>\n      <td>0</td>\n      <td>-1</td>\n      <td>14</td>\n      <td>1</td>\n      <td>1</td>\n      <td>2</td>\n      <td>1</td>\n      <td>82</td>\n      <td>3</td>\n      <td>0.316070</td>\n      <td>0.565832</td>\n      <td>0.365103</td>\n      <td>2.000000</td>\n      <td>0.4</td>\n      <td>0.6</td>\n      <td>0.0</td>\n      <td>2</td>\n      <td>2</td>\n      <td>6</td>\n      <td>3</td>\n      <td>10</td>\n      <td>2</td>\n      <td>12</td>\n      <td>3</td>\n      <td>1</td>\n      <td>1</td>\n      <td>3</td>\n      <td>0</td>\n      <td>0</td>\n      <td>0</td>\n      <td>1</td>\n      <td>1</td>\n      <td>0</td>\n    </tr>\n  </tbody>\n</table>\n</div>",
      "text/plain": "   id  target  ps_ind_01  ps_ind_02_cat  ps_ind_03  ps_ind_04_cat  ps_ind_05_cat  ps_ind_06_bin  ps_ind_07_bin  ps_ind_08_bin  ps_ind_09_bin  ps_ind_10_bin  ps_ind_11_bin  ps_ind_12_bin  ps_ind_13_bin  ps_ind_14  ps_ind_15  ps_ind_16_bin  ps_ind_17_bin  ps_ind_18_bin  ps_reg_01  ps_reg_02  ps_reg_03  ps_car_01_cat  ps_car_02_cat  ps_car_03_cat  ps_car_04_cat  ps_car_05_cat  ps_car_06_cat  ps_car_07_cat  ps_car_08_cat  ps_car_09_cat  ps_car_10_cat  ps_car_11_cat  ps_car_11  ps_car_12  ps_car_13  ps_car_14  ps_car_15  ps_calc_01  ps_calc_02  ps_calc_03  ps_calc_04  ps_calc_05  ps_calc_06  ps_calc_07  ps_calc_08  ps_calc_09  ps_calc_10  ps_calc_11  ps_calc_12  ps_calc_13  ps_calc_14  ps_calc_15_bin  ps_calc_16_bin  ps_calc_17_bin  ps_calc_18_bin  ps_calc_19_bin  ps_calc_20_bin\n0   7       0          2              2          5              1              0              0              1              0              0              0              0              0              0          0         11              0              1              0        0.7        0.2   0.718070             10              1             -1              0              1              4              1              0              0              1             12          2   0.400000   0.883679   0.370810   3.605551         0.6         0.5         0.2           3           1          10           1          10           1           5           9           1           5           8               0               1               1               0               0               1\n1   9       0          1              1          7              0              0              0              0              1              0              0              0              0              0          0          3              0              0              1        0.8        0.4   0.766078             11              1             -1              0             -1             11              1              1              2              1             19          3   0.316228   0.618817   0.388716   2.449490         0.3         0.1         0.3           2           1           9           5           8           1           7           3           1           1           9               0               1               1               0               1               0\n2  13       0          5              4          9              1              0              0              0              1              0              0              0              0              0          0         12              1              0              0        0.0        0.0  -1.000000              7              1             -1              0             -1             14              1              1              2              1             60          1   0.316228   0.641586   0.347275   3.316625         0.5         0.7         0.1           2           2           9           1           8           2           7           4           2           7           7               0               1               1               0               1               0\n3  16       0          0              1          2              0              0              1              0              0              0              0              0              0              0          0          8              1              0              0        0.9        0.2   0.580948              7              1              0              0              1             11              1              1              3              1            104          1   0.374166   0.542949   0.294958   2.000000         0.6         0.9         0.1           2           4           7           1           8           4           2           2           2           4           9               0               0               0               0               0               0\n4  17       0          0              2          0              1              0              1              0              0              0              0              0              0              0          0          9              1              0              0        0.7        0.6   0.840759             11              1             -1              0             -1             14              1              1              2              1             82          3   0.316070   0.565832   0.365103   2.000000         0.4         0.6         0.0           2           2           6           3          10           2          12           3           1           1           3               0               0               0               1               1               0"
     },
     "execution_count": 6,
     "metadata": {},
     "output_type": "execute_result"
    }
   ],
   "source": [
    "df.head()"
   ]
  },
  {
   "cell_type": "code",
   "execution_count": 7,
   "metadata": {},
   "outputs": [
    {
     "data": {
      "text/plain": "id                595212\ntarget                 2\nps_ind_01              8\nps_ind_02_cat          5\nps_ind_03             12\nps_ind_04_cat          3\nps_ind_05_cat          8\nps_ind_06_bin          2\nps_ind_07_bin          2\nps_ind_08_bin          2\nps_ind_09_bin          2\nps_ind_10_bin          2\nps_ind_11_bin          2\nps_ind_12_bin          2\nps_ind_13_bin          2\nps_ind_14              5\nps_ind_15             14\nps_ind_16_bin          2\nps_ind_17_bin          2\nps_ind_18_bin          2\nps_reg_01             10\nps_reg_02             19\nps_reg_03           5013\nps_car_01_cat         13\nps_car_02_cat          3\nps_car_03_cat          3\nps_car_04_cat         10\nps_car_05_cat          3\nps_car_06_cat         18\nps_car_07_cat          3\nps_car_08_cat          2\nps_car_09_cat          6\nps_car_10_cat          3\nps_car_11_cat        104\nps_car_11              5\nps_car_12            184\nps_car_13          70482\nps_car_14            850\nps_car_15             15\nps_calc_01            10\nps_calc_02            10\nps_calc_03            10\nps_calc_04             6\nps_calc_05             7\nps_calc_06            11\nps_calc_07            10\nps_calc_08            11\nps_calc_09             8\nps_calc_10            26\nps_calc_11            20\nps_calc_12            11\nps_calc_13            14\nps_calc_14            24\nps_calc_15_bin         2\nps_calc_16_bin         2\nps_calc_17_bin         2\nps_calc_18_bin         2\nps_calc_19_bin         2\nps_calc_20_bin         2\ndtype: int64"
     },
     "execution_count": 7,
     "metadata": {},
     "output_type": "execute_result"
    }
   ],
   "source": [
    "df.nunique()"
   ]
  },
  {
   "cell_type": "code",
   "execution_count": 8,
   "metadata": {},
   "outputs": [
    {
     "data": {
      "text/plain": "Index(['id', 'target', 'ps_ind_01', 'ps_ind_02_cat', 'ps_ind_03', 'ps_ind_04_cat', 'ps_ind_05_cat', 'ps_ind_06_bin', 'ps_ind_07_bin', 'ps_ind_08_bin', 'ps_ind_09_bin', 'ps_ind_10_bin', 'ps_ind_11_bin', 'ps_ind_12_bin', 'ps_ind_13_bin', 'ps_ind_14', 'ps_ind_15', 'ps_ind_16_bin', 'ps_ind_17_bin', 'ps_ind_18_bin', 'ps_reg_01', 'ps_reg_02', 'ps_reg_03', 'ps_car_01_cat', 'ps_car_02_cat', 'ps_car_03_cat', 'ps_car_04_cat', 'ps_car_05_cat', 'ps_car_06_cat', 'ps_car_07_cat', 'ps_car_08_cat', 'ps_car_09_cat', 'ps_car_10_cat', 'ps_car_11_cat', 'ps_car_11', 'ps_car_12', 'ps_car_13', 'ps_car_14', 'ps_car_15', 'ps_calc_01', 'ps_calc_02', 'ps_calc_03', 'ps_calc_04', 'ps_calc_05', 'ps_calc_06', 'ps_calc_07', 'ps_calc_08', 'ps_calc_09', 'ps_calc_10', 'ps_calc_11', 'ps_calc_12', 'ps_calc_13', 'ps_calc_14', 'ps_calc_15_bin', 'ps_calc_16_bin', 'ps_calc_17_bin', 'ps_calc_18_bin', 'ps_calc_19_bin', 'ps_calc_20_bin'], dtype='object')"
     },
     "execution_count": 8,
     "metadata": {},
     "output_type": "execute_result"
    }
   ],
   "source": [
    "df.columns"
   ]
  },
  {
   "cell_type": "code",
   "execution_count": 9,
   "metadata": {},
   "outputs": [],
   "source": [
    "cat_vars = ['ps_ind_15', 'ps_car_11_cat']\n",
    "num_vars = ['ps_ind_01', 'ps_ind_02_cat', 'ps_ind_03', 'ps_ind_04_cat', 'ps_ind_05_cat', 'ps_ind_06_bin', 'ps_ind_07_bin', 'ps_ind_08_bin', 'ps_ind_09_bin', 'ps_ind_10_bin', 'ps_ind_11_bin', 'ps_ind_12_bin', 'ps_ind_13_bin', 'ps_ind_14', 'ps_ind_16_bin', 'ps_ind_17_bin', 'ps_ind_18_bin', 'ps_reg_01', 'ps_reg_02', 'ps_reg_03', 'ps_car_01_cat', 'ps_car_02_cat', 'ps_car_03_cat', 'ps_car_04_cat', 'ps_car_05_cat', 'ps_car_06_cat', 'ps_car_07_cat', 'ps_car_08_cat', 'ps_car_09_cat', 'ps_car_10_cat', 'ps_car_11', 'ps_car_12', 'ps_car_13', 'ps_car_14', 'ps_car_15', 'ps_calc_01', 'ps_calc_02', 'ps_calc_03', 'ps_calc_04', 'ps_calc_05', 'ps_calc_06', 'ps_calc_07', 'ps_calc_08', 'ps_calc_09', 'ps_calc_10', 'ps_calc_11', 'ps_calc_12', 'ps_calc_13', 'ps_calc_14', 'ps_calc_15_bin', 'ps_calc_16_bin', 'ps_calc_17_bin', 'ps_calc_18_bin', 'ps_calc_19_bin', 'ps_calc_20_bin']\n",
    "target = 'target'"
   ]
  },
  {
   "cell_type": "code",
   "execution_count": 10,
   "metadata": {},
   "outputs": [
    {
     "name": "stdout",
     "output_type": "stream",
     "text": "one_hot_encoding \n|       |   fit_time |   score_time |   test_f1_macro |   test_accuracy |     test_f1 |   test_precision |   test_recall |\n|:------|-----------:|-------------:|----------------:|----------------:|------------:|-----------------:|--------------:|\n| count |    5       |      5       |     5           |     5           | 5           |         5        |   5           |\n| mean  |  298.882   |      7.91771 |     0.490949    |     0.963552    | 0.00046049  |         0.233333 |   0.0002305   |\n| std   |    4.00388 |      1.94194 |     0.000326995 |     6.99359e-06 | 0.000651186 |         0.324893 |   0.000325987 |\n| min   |  291.929   |      6.1322  |     0.490716    |     0.963542    | 0           |         0        |   0           |\n| 25%   |  299.872   |      7.24994 |     0.490719    |     0.963551    | 0           |         0        |   0           |\n| 50%   |  300.029   |      7.34825 |     0.490719    |     0.963551    | 0           |         0        |   0           |\n| 75%   |  300.316   |      7.61831 |     0.491181    |     0.963559    | 0.000921234 |         0.5      |   0.000460936 |\n| max   |  302.263   |     11.2399  |     0.491411    |     0.963559    | 0.00138122  |         0.666667 |   0.000691563 |\nordinal_encoding \n|       |   fit_time |   score_time |   test_f1_macro |   test_accuracy |     test_f1 |   test_precision |   test_recall |\n|:------|-----------:|-------------:|----------------:|----------------:|------------:|-----------------:|--------------:|\n| count |    5       |     5        |     5           |     5           | 5           |         5        |   5           |\n| mean  |  125.272   |     2.15915  |     0.490996    |     0.963554    | 0.000552613 |         0.3      |   0.000276593 |\n| std   |    5.93508 |     0.524312 |     0.000381379 |     1.52273e-05 | 0.000756697 |         0.447214 |   0.000378741 |\n| min   |  117.964   |     1.45985  |     0.490714    |     0.963534    | 0           |         0        |   0           |\n| 25%   |  121.058   |     2.05537  |     0.490719    |     0.963551    | 0           |         0        |   0           |\n| 50%   |  126.489   |     2.14308  |     0.490719    |     0.963551    | 0           |         0        |   0           |\n| 75%   |  127.674   |     2.20535  |     0.491411    |     0.963559    | 0.00138122  |         0.5      |   0.000691404 |\n| max   |  133.177   |     2.93209  |     0.491416    |     0.963576    | 0.00138185  |         1        |   0.000691563 |\n"
    }
   ],
   "source": [
    "investigation(\n",
    "    dataset=df,\n",
    "    categorical_feature=cat_vars,\n",
    "    continuous_feature=num_vars,\n",
    "    model=AdaBoostClassifier,\n",
    "    target=target\n",
    ")"
   ]
  },
  {
   "cell_type": "code",
   "execution_count": 11,
   "metadata": {},
   "outputs": [
    {
     "name": "stdout",
     "output_type": "stream",
     "text": "one_hot_encoding \n|       |   fit_time |   score_time |   test_f1_macro |   test_accuracy |   test_f1 |   test_precision |   test_recall |\n|:------|-----------:|-------------:|----------------:|----------------:|----------:|-----------------:|--------------:|\n| count |    5       |     5        |     5           |     5           |         5 |                5 |             5 |\n| mean  |   44.9371  |     0.500949 |     0.490719    |     0.963552    |         0 |                0 |             0 |\n| std   |    2.56015 |     0.107716 |     9.57447e-07 |     3.69148e-06 |         0 |                0 |             0 |\n| min   |   42.2325  |     0.331213 |     0.490719    |     0.963551    |         0 |                0 |             0 |\n| 25%   |   42.4015  |     0.460614 |     0.490719    |     0.963551    |         0 |                0 |             0 |\n| 50%   |   45.3718  |     0.542555 |     0.490719    |     0.963551    |         0 |                0 |             0 |\n| 75%   |   46.7329  |     0.580034 |     0.490719    |     0.963551    |         0 |                0 |             0 |\n| max   |   47.9469  |     0.590328 |     0.490721    |     0.963559    |         0 |                0 |             0 |\nordinal_encoding \n|       |   fit_time |   score_time |   test_f1_macro |   test_accuracy |   test_f1 |   test_precision |   test_recall |\n|:------|-----------:|-------------:|----------------:|----------------:|----------:|-----------------:|--------------:|\n| count |   5        |     5        |     5           |     5           |         5 |                5 |             5 |\n| mean  |   6.95804  |     0.452339 |     0.490719    |     0.963552    |         0 |                0 |             0 |\n| std   |   0.396087 |     0.158852 |     9.57447e-07 |     3.69148e-06 |         0 |                0 |             0 |\n| min   |   6.47179  |     0.254527 |     0.490719    |     0.963551    |         0 |                0 |             0 |\n| 25%   |   6.71143  |     0.349206 |     0.490719    |     0.963551    |         0 |                0 |             0 |\n| 50%   |   6.90809  |     0.472038 |     0.490719    |     0.963551    |         0 |                0 |             0 |\n| 75%   |   7.246    |     0.518017 |     0.490719    |     0.963551    |         0 |                0 |             0 |\n| max   |   7.45288  |     0.667905 |     0.490721    |     0.963559    |         0 |                0 |             0 |\n"
    }
   ],
   "source": [
    "investigation(\n",
    "    dataset=df,\n",
    "    categorical_feature=cat_vars,\n",
    "    continuous_feature=num_vars,\n",
    "    model=LogisticRegression,\n",
    "    target=target\n",
    ")"
   ]
  },
  {
   "cell_type": "code",
   "execution_count": 18,
   "metadata": {},
   "outputs": [
    {
     "data": {
      "text/plain": "573518"
     },
     "execution_count": 18,
     "metadata": {},
     "output_type": "execute_result"
    }
   ],
   "source": [
    "df.target.value_counts()[0]"
   ]
  },
  {
   "cell_type": "code",
   "execution_count": null,
   "metadata": {},
   "outputs": [],
   "source": []
  }
 ]
}